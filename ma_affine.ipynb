{
 "cells": [
  {
   "cell_type": "code",
   "execution_count": 166,
   "metadata": {},
   "outputs": [],
   "source": [
    "import numpy as np"
   ]
  },
  {
   "cell_type": "code",
   "execution_count": 167,
   "metadata": {},
   "outputs": [],
   "source": [
    "dict='ABCDEFGHIJKLMNOPQRSTUVWXYZ'"
   ]
  },
  {
   "cell_type": "code",
   "execution_count": 168,
   "metadata": {},
   "outputs": [],
   "source": [
    "def UCLN(a,b):\n",
    "    while b:\n",
    "        a,b=b,a%b\n",
    "    return a\n",
    "\n",
    "def affine(a,b,len_dict,x):\n",
    "    if UCLN(a,len_dict)==1:\n",
    "        f=(a*x+b)%len_dict\n",
    "        return f\n",
    "    else:\n",
    "        print('ham ma hoa khong hop le,UCLN(a,26)>1')\n",
    "\n",
    "def affine_encrypt(a,b,dict,context):\n",
    "    result=[dict[affine(a,b,len(dict),dict.index(i))] for i in context]\n",
    "    result=''.join(result)\n",
    "    return result\n",
    "        \n"
   ]
  },
  {
   "cell_type": "code",
   "execution_count": 169,
   "metadata": {},
   "outputs": [
    {
     "name": "stdout",
     "output_type": "stream",
     "text": [
      "WLAJCFRCVWGII\n"
     ]
    }
   ],
   "source": [
    "context=\"ILOVEPHENIKAA\"\n",
    "a=affine_encrypt(5,8,dict,context)\n",
    "print(a)"
   ]
  },
  {
   "cell_type": "code",
   "execution_count": 170,
   "metadata": {},
   "outputs": [],
   "source": [
    "def mod_inverse(a,m):\n",
    "    for i in range(1,m):\n",
    "        if(a*i)%m==1:\n",
    "            return i\n",
    "    return None"
   ]
  },
  {
   "cell_type": "code",
   "execution_count": 171,
   "metadata": {},
   "outputs": [
    {
     "name": "stdout",
     "output_type": "stream",
     "text": [
      "ILOVEPHENIKAA\n"
     ]
    }
   ],
   "source": [
    "def affine_decrypt(a,b,dict,context):\n",
    "    a_inv=mod_inverse(a,len(dict))\n",
    "    de_affine=lambda y :int((a_inv *(dict.index(y)-b))%len(dict))\n",
    "\n",
    "    result=[dict[de_affine(i)] for i in context]\n",
    "    return ''.join(result)\n",
    "\n",
    "\n",
    "\n",
    "print(affine_decrypt(5,8,dict,'WLAJCFRCVWGII'))"
   ]
  },
  {
   "cell_type": "code",
   "execution_count": null,
   "metadata": {},
   "outputs": [],
   "source": []
  }
 ],
 "metadata": {
  "kernelspec": {
   "display_name": "Python 3",
   "language": "python",
   "name": "python3"
  },
  "language_info": {
   "codemirror_mode": {
    "name": "ipython",
    "version": 3
   },
   "file_extension": ".py",
   "mimetype": "text/x-python",
   "name": "python",
   "nbconvert_exporter": "python",
   "pygments_lexer": "ipython3",
   "version": "3.12.1"
  }
 },
 "nbformat": 4,
 "nbformat_minor": 2
}
