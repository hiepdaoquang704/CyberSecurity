{
 "cells": [
  {
   "cell_type": "code",
   "execution_count": 64,
   "metadata": {},
   "outputs": [],
   "source": [
    "key = 'abcdefghijklmnopqrstuvwxyz@1234567890'"
   ]
  },
  {
   "cell_type": "code",
   "execution_count": 65,
   "metadata": {},
   "outputs": [],
   "source": [
    "class ceasdar():\n",
    "    def __init__(self,key):\n",
    "        self.key=key\n",
    "    def encrypt(self, n, plaintext):\n",
    " \n",
    "        result = ''\n",
    "\n",
    "        for l in plaintext:\n",
    "            try:\n",
    "                i = (self.key.index(l) + n) % len(self.key)\n",
    "                result += self.key[i]\n",
    "            except ValueError:\n",
    "                result += l\n",
    "        return result\n",
    "    def decrypt(self, n, ciphertext):\n",
    "\n",
    "        result = ''\n",
    "\n",
    "        for l in ciphertext:\n",
    "            try:\n",
    "                i = (self.key.index(l) - n) % len(self.key)\n",
    "                result += self.key[i]\n",
    "            except ValueError:\n",
    "                result += l\n",
    "\n",
    "        return result\n",
    "    def show_result(self, plaintext, n):\n",
    "\n",
    "        encrypted = self.encrypt(n, plaintext)\n",
    "        decrypted = self.decrypt(n, encrypted)\n",
    "\n",
    "        print('Rotation: ', n)\n",
    "        print('Plaintext: ', plaintext)\n",
    "        print('Encrytped: ', encrypted)\n",
    "        print('Decrytped: ', decrypted)"
   ]
  },
  {
   "cell_type": "code",
   "execution_count": 66,
   "metadata": {},
   "outputs": [],
   "source": [
    "ceasdar=ceasdar(key)"
   ]
  },
  {
   "cell_type": "code",
   "execution_count": 67,
   "metadata": {},
   "outputs": [
    {
     "name": "stdout",
     "output_type": "stream",
     "text": [
      "Rotation:  3\n",
      "Plaintext:  hiepdaoquang704@gmail.com\n",
      "Encrytped:  klhsgdrtxdqj0c73jpdlo.frp\n",
      "Decrytped:  hiepdaoquang704@gmail.com\n",
      "None\n"
     ]
    }
   ],
   "source": [
    "encrypt=ceasdar.show_result('hiepdaoquang704@gmail.com',3)\n",
    "print(encrypt)"
   ]
  },
  {
   "cell_type": "code",
   "execution_count": null,
   "metadata": {},
   "outputs": [],
   "source": []
  }
 ],
 "metadata": {
  "kernelspec": {
   "display_name": "Python 3",
   "language": "python",
   "name": "python3"
  },
  "language_info": {
   "codemirror_mode": {
    "name": "ipython",
    "version": 3
   },
   "file_extension": ".py",
   "mimetype": "text/x-python",
   "name": "python",
   "nbconvert_exporter": "python",
   "pygments_lexer": "ipython3",
   "version": "3.12.1"
  }
 },
 "nbformat": 4,
 "nbformat_minor": 2
}
