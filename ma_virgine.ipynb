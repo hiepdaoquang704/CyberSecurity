{
 "cells": [
  {
   "cell_type": "code",
   "execution_count": 4,
   "metadata": {},
   "outputs": [],
   "source": [
    "def vigenere_encrypt(plain_text, key):\n",
    "    result = \"\"\n",
    "    key = key.upper()\n",
    "    key_length = len(key)\n",
    "    for i in range(len(plain_text)):\n",
    "        char = plain_text[i]\n",
    "        if char.isalpha():\n",
    "      \n",
    "            key_char = key[i % key_length]\n",
    "            key_index = ord(key_char) - ord('A')\n",
    "\n",
    "\n",
    "            if char.isupper():\n",
    "                result += chr((ord(char) + key_index - ord('A')) % 26 + ord('A'))\n",
    "            else:\n",
    "                result += chr((ord(char) + key_index - ord('a')) % 26 + ord('a'))\n",
    "        else:\n",
    "            result += char\n",
    "    return result\n",
    "\n",
    "\n",
    "def vigenere_decrypt(cipher_text, key):\n",
    "    result = \"\"\n",
    "    key = key.upper()\n",
    "    key_length = len(key)\n",
    "    for i in range(len(cipher_text)):\n",
    "        char = cipher_text[i]\n",
    "        if char.isalpha():\n",
    "     \n",
    "            key_char = key[i % key_length]\n",
    "            key_index = ord(key_char) - ord('A')\n",
    "\n",
    "\n",
    "            if char.isupper():\n",
    "                result += chr((ord(char) - key_index - ord('A')) % 26 + ord('A'))\n",
    "            else:\n",
    "                result += chr((ord(char) - key_index - ord('a')) % 26 + ord('a'))\n",
    "        else:\n",
    "            result += char\n",
    "    return result\n"
   ]
  },
  {
   "cell_type": "code",
   "execution_count": 5,
   "metadata": {},
   "outputs": [
    {
     "name": "stdout",
     "output_type": "stream",
     "text": [
      "Cipher text: Spmfinrilsoyk\n",
      "Decrypted text: Ilovephenikaa\n"
     ]
    }
   ],
   "source": [
    "plain_text = \"Ilovephenikaa\"\n",
    "key = \"KEY\"\n",
    "cipher_text = vigenere_encrypt(plain_text, key)\n",
    "print(\"Cipher text:\", cipher_text)\n",
    "\n",
    "decrypted_text = vigenere_decrypt(cipher_text, key)\n",
    "print(\"Decrypted text:\", decrypted_text)"
   ]
  },
  {
   "cell_type": "code",
   "execution_count": null,
   "metadata": {},
   "outputs": [],
   "source": []
  }
 ],
 "metadata": {
  "kernelspec": {
   "display_name": "Python 3",
   "language": "python",
   "name": "python3"
  },
  "language_info": {
   "codemirror_mode": {
    "name": "ipython",
    "version": 3
   },
   "file_extension": ".py",
   "mimetype": "text/x-python",
   "name": "python",
   "nbconvert_exporter": "python",
   "pygments_lexer": "ipython3",
   "version": "3.12.1"
  }
 },
 "nbformat": 4,
 "nbformat_minor": 2
}
